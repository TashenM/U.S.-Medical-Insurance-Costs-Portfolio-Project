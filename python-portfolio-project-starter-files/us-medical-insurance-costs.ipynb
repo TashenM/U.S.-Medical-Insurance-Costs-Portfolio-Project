{
 "cells": [
  {
   "cell_type": "markdown",
   "metadata": {},
   "source": [
    "# U.S. Medical Insurance Costs"
   ]
  },
  {
   "cell_type": "markdown",
   "metadata": {},
   "source": [
    "**See TL:DR at the end.**\n",
    "\n",
    "The dataset contains information on the medical insurance costs of patients in different regions of the U.S.\n",
    "\n",
    "#### Goal: To gain insight on different attributes surrounding Medical Insurance Costs in the U.S."
   ]
  },
  {
   "cell_type": "markdown",
   "metadata": {},
   "source": [
    "#### First we want to get familiar with the dataset we are dealing with:"
   ]
  },
  {
   "cell_type": "code",
   "execution_count": 88,
   "metadata": {
    "scrolled": true
   },
   "outputs": [
    {
     "data": {
      "text/html": [
       "<div>\n",
       "<style scoped>\n",
       "    .dataframe tbody tr th:only-of-type {\n",
       "        vertical-align: middle;\n",
       "    }\n",
       "\n",
       "    .dataframe tbody tr th {\n",
       "        vertical-align: top;\n",
       "    }\n",
       "\n",
       "    .dataframe thead th {\n",
       "        text-align: right;\n",
       "    }\n",
       "</style>\n",
       "<table border=\"1\" class=\"dataframe\">\n",
       "  <thead>\n",
       "    <tr style=\"text-align: right;\">\n",
       "      <th></th>\n",
       "      <th>age</th>\n",
       "      <th>sex</th>\n",
       "      <th>bmi</th>\n",
       "      <th>children</th>\n",
       "      <th>smoker</th>\n",
       "      <th>region</th>\n",
       "      <th>charges</th>\n",
       "    </tr>\n",
       "  </thead>\n",
       "  <tbody>\n",
       "    <tr>\n",
       "      <th>0</th>\n",
       "      <td>19</td>\n",
       "      <td>female</td>\n",
       "      <td>27.900</td>\n",
       "      <td>0</td>\n",
       "      <td>yes</td>\n",
       "      <td>southwest</td>\n",
       "      <td>16884.92400</td>\n",
       "    </tr>\n",
       "    <tr>\n",
       "      <th>1</th>\n",
       "      <td>18</td>\n",
       "      <td>male</td>\n",
       "      <td>33.770</td>\n",
       "      <td>1</td>\n",
       "      <td>no</td>\n",
       "      <td>southeast</td>\n",
       "      <td>1725.55230</td>\n",
       "    </tr>\n",
       "    <tr>\n",
       "      <th>2</th>\n",
       "      <td>28</td>\n",
       "      <td>male</td>\n",
       "      <td>33.000</td>\n",
       "      <td>3</td>\n",
       "      <td>no</td>\n",
       "      <td>southeast</td>\n",
       "      <td>4449.46200</td>\n",
       "    </tr>\n",
       "    <tr>\n",
       "      <th>3</th>\n",
       "      <td>33</td>\n",
       "      <td>male</td>\n",
       "      <td>22.705</td>\n",
       "      <td>0</td>\n",
       "      <td>no</td>\n",
       "      <td>northwest</td>\n",
       "      <td>21984.47061</td>\n",
       "    </tr>\n",
       "    <tr>\n",
       "      <th>4</th>\n",
       "      <td>32</td>\n",
       "      <td>male</td>\n",
       "      <td>28.880</td>\n",
       "      <td>0</td>\n",
       "      <td>no</td>\n",
       "      <td>northwest</td>\n",
       "      <td>3866.85520</td>\n",
       "    </tr>\n",
       "  </tbody>\n",
       "</table>\n",
       "</div>"
      ],
      "text/plain": [
       "   age     sex     bmi  children smoker     region      charges\n",
       "0   19  female  27.900         0    yes  southwest  16884.92400\n",
       "1   18    male  33.770         1     no  southeast   1725.55230\n",
       "2   28    male  33.000         3     no  southeast   4449.46200\n",
       "3   33    male  22.705         0     no  northwest  21984.47061\n",
       "4   32    male  28.880         0     no  northwest   3866.85520"
      ]
     },
     "execution_count": 88,
     "metadata": {},
     "output_type": "execute_result"
    }
   ],
   "source": [
    "# Import the libraries that we will be using in this project:\n",
    "import pandas as pd\n",
    "import csv\n",
    "import numpy as np\n",
    "import matplotlib.pyplot as plt\n",
    "\n",
    "df = pd.read_csv(\"insurance.csv\")\n",
    "\n",
    "df.head()"
   ]
  },
  {
   "cell_type": "code",
   "execution_count": 89,
   "metadata": {},
   "outputs": [
    {
     "data": {
      "text/html": [
       "<div>\n",
       "<style scoped>\n",
       "    .dataframe tbody tr th:only-of-type {\n",
       "        vertical-align: middle;\n",
       "    }\n",
       "\n",
       "    .dataframe tbody tr th {\n",
       "        vertical-align: top;\n",
       "    }\n",
       "\n",
       "    .dataframe thead th {\n",
       "        text-align: right;\n",
       "    }\n",
       "</style>\n",
       "<table border=\"1\" class=\"dataframe\">\n",
       "  <thead>\n",
       "    <tr style=\"text-align: right;\">\n",
       "      <th></th>\n",
       "      <th>index</th>\n",
       "      <th>0</th>\n",
       "    </tr>\n",
       "  </thead>\n",
       "  <tbody>\n",
       "    <tr>\n",
       "      <th>0</th>\n",
       "      <td>age</td>\n",
       "      <td>int64</td>\n",
       "    </tr>\n",
       "    <tr>\n",
       "      <th>1</th>\n",
       "      <td>sex</td>\n",
       "      <td>object</td>\n",
       "    </tr>\n",
       "    <tr>\n",
       "      <th>2</th>\n",
       "      <td>bmi</td>\n",
       "      <td>float64</td>\n",
       "    </tr>\n",
       "    <tr>\n",
       "      <th>3</th>\n",
       "      <td>children</td>\n",
       "      <td>int64</td>\n",
       "    </tr>\n",
       "    <tr>\n",
       "      <th>4</th>\n",
       "      <td>smoker</td>\n",
       "      <td>object</td>\n",
       "    </tr>\n",
       "    <tr>\n",
       "      <th>5</th>\n",
       "      <td>region</td>\n",
       "      <td>object</td>\n",
       "    </tr>\n",
       "    <tr>\n",
       "      <th>6</th>\n",
       "      <td>charges</td>\n",
       "      <td>float64</td>\n",
       "    </tr>\n",
       "  </tbody>\n",
       "</table>\n",
       "</div>"
      ],
      "text/plain": [
       "      index        0\n",
       "0       age    int64\n",
       "1       sex   object\n",
       "2       bmi  float64\n",
       "3  children    int64\n",
       "4    smoker   object\n",
       "5    region   object\n",
       "6   charges  float64"
      ]
     },
     "execution_count": 89,
     "metadata": {},
     "output_type": "execute_result"
    }
   ],
   "source": [
    "# Inspecting what data types are stored in the dataset:\n",
    "df.dtypes.reset_index()"
   ]
  },
  {
   "cell_type": "code",
   "execution_count": 90,
   "metadata": {},
   "outputs": [
    {
     "data": {
      "text/plain": [
       "(1338, 7)"
      ]
     },
     "execution_count": 90,
     "metadata": {},
     "output_type": "execute_result"
    }
   ],
   "source": [
    "# To know how many rows of data we are dealing with and how many columns:\n",
    "df.shape"
   ]
  },
  {
   "cell_type": "markdown",
   "metadata": {},
   "source": [
    "There are 1338 rows and 7 columns in this dataset.\n",
    "\n",
    "Now it is worth noting that this dataset is already cleaned and there is no missing data. From here we can move on to the next step in sorting our data for what we want to gain insight on."
   ]
  },
  {
   "cell_type": "markdown",
   "metadata": {},
   "source": [
    "### We want to gain insight on the following:\n",
    "1. Is there a significant difference in the average cost of insurance for smokers vs non-smokers?\n",
    "2. Which regions have the highest/lowest average insurance cost?\n",
    "3. Is there a correlation between age and insurance cost?\n",
    "4. Compare the cost of insurance for smokers and non-smokers in each region.\n",
    "\n",
    "### Building a Class for our analysis of the data:\n",
    "We will begin this by organizing our columns from the dataset into seperate lists so that we can make use of these lists in the Class."
   ]
  },
  {
   "cell_type": "code",
   "execution_count": 96,
   "metadata": {},
   "outputs": [],
   "source": [
    "# Create lists for each column in the dataset, we will add the values from the dataset into lists:\n",
    "ages = []\n",
    "sexes = []\n",
    "bmis = []\n",
    "children_count = []\n",
    "smokers = []\n",
    "regions = []\n",
    "costs = []\n",
    "\n",
    "# Organize the values from the csv into seperate lists of their corresponding columns:\n",
    "def list_organizer(column_list, column_name):\n",
    "    with open('insurance.csv', newline='') as file:\n",
    "        reader = csv.DictReader(file)\n",
    "        for row in reader:\n",
    "            column_list.append(row[column_name])\n",
    "\n",
    "list_organizer(ages, 'age')\n",
    "list_organizer(sexes, 'sex')\n",
    "list_organizer(bmis, 'bmi')\n",
    "list_organizer(children_count, 'children')\n",
    "list_organizer(smokers, 'smoker')\n",
    "list_organizer(regions, 'region')\n",
    "list_organizer(costs, 'charges')"
   ]
  },
  {
   "cell_type": "markdown",
   "metadata": {},
   "source": [
    "Now the above lists are organized using a function.\n",
    "\n",
    "We will now make a Class to analyze the insights that we want to look at.\n",
    "## The Class will contain 4 methods:\n",
    "* smokers_cost_avg() - shows average cost of smokers vs non-smokers.\n",
    "* region_cost_avg() - shows average cost in each region.\n",
    "* age_to_cost() - shows a scatter plot of the ages of non-smokers without children vs cost.\n",
    "* region_smokers_bar() - shows a side by side bar graph of average cost of smokers vs non-smokers in each region.\n"
   ]
  },
  {
   "cell_type": "code",
   "execution_count": 118,
   "metadata": {},
   "outputs": [],
   "source": [
    "class analyze:\n",
    "    # Constructor used to define variables for our lists previously made:\n",
    "    def __init__(self, age, sex, bmi, children, smoker, region, cost):\n",
    "        self.age = age\n",
    "        self.sex = sex\n",
    "        self.bmi = bmi\n",
    "        self.children = children\n",
    "        self.smoker = smoker\n",
    "        self.region = region\n",
    "        self.cost = cost\n",
    "        \n",
    "    # This method is used to find the average insurance cost of smokers and non-smokers:\n",
    "    def smokers_cost_avg(self):\n",
    "        y = 0\n",
    "        n = 0\n",
    "        total_yes = 0\n",
    "        total_no = 0\n",
    "        \n",
    "        # iterates through each row of lists so we can go through more than 1 column in the same row.\n",
    "        # whilst iterating through each row, we want to add the costs of smokers/non-smokers and get their average.\n",
    "        for x in range(len(self.cost)):\n",
    "            if self.smoker[x] == 'yes':\n",
    "                total_yes += float(self.cost[x])\n",
    "                y += 1\n",
    "            else:\n",
    "                total_no += float(self.cost[x])\n",
    "                n += 1\n",
    "                \n",
    "        avg_yes = round(total_yes / y, 2)\n",
    "        avg_no = round(total_no / n, 2)\n",
    "        \n",
    "        print(\"Average cost for smokers: {}\".format(avg_yes))\n",
    "        print(\"Average cost for non-smokers: {}\".format(avg_no))\n",
    "    \n",
    "    # This method is used to find the average insurance cost of each geographical location:\n",
    "    def region_cost_avg(self):\n",
    "        NE = 0\n",
    "        NW = 0\n",
    "        SE = 0\n",
    "        SW = 0\n",
    "        cost_NE = 0\n",
    "        cost_NW = 0\n",
    "        cost_SE = 0\n",
    "        cost_SW = 0\n",
    "        \n",
    "        # iterates through each row of the region list, and from each row it checks what region it is and adds\n",
    "        # the cost for that region into a total for that region which can then be used to check for an average later on:\n",
    "        for x in range(len(self.region)):\n",
    "            if self.region[x] == 'northeast':\n",
    "                cost_NE += float(self.cost[x])\n",
    "                NE += 1\n",
    "            if self.region[x] == 'northwest':\n",
    "                cost_NW += float(self.cost[x])\n",
    "                NW += 1\n",
    "            if self.region[x] == 'southeast':\n",
    "                cost_SE += float(self.cost[x])\n",
    "                SE += 1\n",
    "            if self.region[x] == 'southwest':\n",
    "                cost_SW += float(self.cost[x])\n",
    "                SW += 1\n",
    "        \n",
    "        self.avg_cost_NE = round(cost_NE / NE, 2)\n",
    "        self.avg_cost_NW = round(cost_NW / NW, 2)\n",
    "        self.avg_cost_SE = round(cost_SE / SE, 2)\n",
    "        self.avg_cost_SW = round(cost_SW / SW, 2)\n",
    "        \n",
    "        print(\"Northeast count: {} \\nNorthwest count: {} \\nSoutheast count: {} \\nSouthwest count: {}\".format(NE, NW, SE, SW))\n",
    "        print(\"Northeast average cost: {} \\nNorthwest average cost: {} \\nSoutheast average cost: {} \\nSouthwest average cost: {}\".format(self.avg_cost_NE, self.avg_cost_NW, self.avg_cost_SE, self.avg_cost_SW))\n",
    "        \n",
    "    # This method is used to find the ages of non-smokers without children and show a scatterplot between their ages\n",
    "    # and corresponding cost:\n",
    "    def age_to_cost(self):\n",
    "        \n",
    "        age_no_children = []\n",
    "        costs_no_children = []\n",
    "        \n",
    "        # iterating through the age list to find all the ages of people without any children:\n",
    "        for x in range(len(self.age)):\n",
    "            if int(self.children[x]) == 0 and self.smoker[x] == 'no':\n",
    "                age_no_children.append(int(self.age[x]))\n",
    "                costs_no_children.append(float(self.cost[x]))        \n",
    "        \n",
    "        # plotting the scatterplot here:\n",
    "        plt.figure(figsize=(8, 6))\n",
    "    \n",
    "        plt.scatter(age_no_children, costs_no_children, c='blue', marker='.')\n",
    "        plt.xlabel('Age of Person', fontsize=12)\n",
    "        plt.ylabel('Insurance Cost', fontsize=12)\n",
    "        \n",
    "        plt.show()\n",
    "    \n",
    "    # This method is used to plot a side by side bar graph of average cost for smokers and non-smokers in each region:\n",
    "    def region_smokers_bar(self):\n",
    "        \n",
    "        # dictionary to store our smokers ('yes') and non-smokers ('no') for each region:\n",
    "        region_smokers = {'NE': {'yes': [], 'no': []}, \n",
    "                          'NW': {'yes': [], 'no': []}, \n",
    "                          'SE': {'yes': [], 'no': []}, \n",
    "                          'SW': {'yes': [], 'no': []}}\n",
    "        \n",
    "        for x in range(len(self.cost)):\n",
    "            if self.region[x] == 'northeast' and self.smoker[x] == 'yes':\n",
    "                region_smokers['NE']['yes'].append(float(self.cost[x]))\n",
    "            if self.region[x] == 'northeast' and self.smoker[x] == 'no':\n",
    "                region_smokers['NE']['no'].append(float(self.cost[x]))\n",
    "            \n",
    "            if self.region[x] == 'northwest' and self.smoker[x] == 'yes':\n",
    "                region_smokers['NW']['yes'].append(float(self.cost[x]))\n",
    "            if self.region[x] == 'northwest' and self.smoker[x] == 'no':\n",
    "                region_smokers['NW']['no'].append(float(self.cost[x]))\n",
    "            \n",
    "            if self.region[x] == 'southeast' and self.smoker[x] == 'yes':\n",
    "                region_smokers['SE']['yes'].append(float(self.cost[x]))\n",
    "            if self.region[x] == 'southeast' and self.smoker[x] == 'no':\n",
    "                region_smokers['SE']['no'].append(float(self.cost[x]))\n",
    "            \n",
    "            if self.region[x] == 'southwest' and self.smoker[x] == 'yes':\n",
    "                region_smokers['SW']['yes'].append(float(self.cost[x]))\n",
    "            if self.region[x] == 'southwest' and self.smoker[x] == 'no':\n",
    "                region_smokers['SW']['no'].append(float(self.cost[x]))\n",
    "                \n",
    "        # dictionary to store the average of costs for each value from the 'region_smokers' dictionary:\n",
    "        region_smoker_avg = {'NE_avg': {'yes': 0, 'no': 0}, \n",
    "                             'NW_avg': {'yes': 0, 'no': 0}, \n",
    "                             'SE_avg': {'yes': 0, 'no': 0}, \n",
    "                             'SW_avg': {'yes': 0, 'no': 0}}\n",
    "        \n",
    "        region_smoker_avg['NE_avg']['yes'] += np.mean(region_smokers['NE']['yes'])\n",
    "        region_smoker_avg['NE_avg']['no'] += np.mean(region_smokers['NE']['no'])\n",
    "        region_smoker_avg['NW_avg']['yes'] += np.mean(region_smokers['NW']['yes'])\n",
    "        region_smoker_avg['NW_avg']['no'] += np.mean(region_smokers['NW']['no'])\n",
    "        region_smoker_avg['SE_avg']['yes'] += np.mean(region_smokers['SE']['yes'])\n",
    "        region_smoker_avg['SE_avg']['no'] += np.mean(region_smokers['SE']['no'])\n",
    "        region_smoker_avg['SW_avg']['yes'] += np.mean(region_smokers['SW']['yes'])\n",
    "        region_smoker_avg['SW_avg']['no'] += np.mean(region_smokers['SW']['no'])\n",
    "        \n",
    "        yes_values = [region_smoker_avg[x]['yes'] for x in region_smoker_avg]\n",
    "        no_values = [region_smoker_avg[x]['no'] for x in region_smoker_avg]\n",
    "        \n",
    "        # a function to map the widths of each bar into a list so both bars can fit together in each x-axis tick:\n",
    "        # 't' is the sets of data, 'w' is width of the bar, 'n' is order of the bars (which one on the left/right), \n",
    "        # 'd' is number of values in list.\n",
    "        def create_x(t, w, n, d):\n",
    "            return [t*x + w*n for x in range(d)]\n",
    "        \n",
    "        yes_values_x = create_x(2, 0.8, 1, 4)\n",
    "        no_values_x = create_x(2, 0.8, 2, 4)\n",
    "        \n",
    "        plt.figure(figsize=(8, 6))\n",
    "        ax = plt.subplot()\n",
    "        plt.bar(yes_values_x, yes_values, color='lightblue')\n",
    "        plt.bar(no_values_x, no_values, color='lightgreen')\n",
    "        \n",
    "        # to find the center of where both bars meet for the x-ticks, we use the following list comprehension:\n",
    "        middle_ticks = [(x + y) / 2 for x,y in zip(yes_values_x, no_values_x)]\n",
    "        \n",
    "        ax.set_xticks(middle_ticks)\n",
    "        ax.set_xticklabels(['Northeast', 'Northwest', 'Southeast', 'Southwest'])\n",
    "        plt.xlabel('Regions', fontsize=14)\n",
    "        plt.ylabel('Average Insurance Cost', fontsize=14)\n",
    "        plt.legend(['Smokers', 'Non-smokers'], loc=2)\n",
    "        \n",
    "        plt.show()"
   ]
  },
  {
   "cell_type": "markdown",
   "metadata": {},
   "source": [
    "Now that we have the data we want to analyze sorted in the Class. We can start going through the different insights.\n",
    "\n",
    "First we will create a variable to store our Class in for easier access:"
   ]
  },
  {
   "cell_type": "code",
   "execution_count": 111,
   "metadata": {},
   "outputs": [],
   "source": [
    "medical = analyze(ages, sexes, bmis, children_count, smokers, regions, costs)"
   ]
  },
  {
   "cell_type": "markdown",
   "metadata": {},
   "source": [
    "### 1. Is there a significant difference in the average cost of insurance for smokers vs non-smokers?"
   ]
  },
  {
   "cell_type": "code",
   "execution_count": 112,
   "metadata": {},
   "outputs": [
    {
     "name": "stdout",
     "output_type": "stream",
     "text": [
      "Average cost for smokers: 32050.23\n",
      "Average cost for non-smokers: 8434.27\n"
     ]
    }
   ],
   "source": [
    "medical.smokers_cost_avg()"
   ]
  },
  {
   "cell_type": "markdown",
   "metadata": {},
   "source": [
    "The average insurance cost for non-smokers is 8434.27 whilst for smokers is 32050.23. From this comparison we can see that there is a major discrepancy between the two categorical values and that smokers have a much higher average cost of insurance when compared with non-smokers.\n",
    "\n",
    "### 2. Which region has the highest/lowest average insurance cost?"
   ]
  },
  {
   "cell_type": "code",
   "execution_count": 113,
   "metadata": {},
   "outputs": [
    {
     "name": "stdout",
     "output_type": "stream",
     "text": [
      "Northeast count: 324 \n",
      "Northwest count: 325 \n",
      "Southeast count: 364 \n",
      "Southwest count: 325\n",
      "Northeast average cost: 13406.38 \n",
      "Northwest average cost: 12417.58 \n",
      "Southeast average cost: 14735.41 \n",
      "Southwest average cost: 12346.94\n"
     ]
    }
   ],
   "source": [
    "medical.region_cost_avg()"
   ]
  },
  {
   "cell_type": "markdown",
   "metadata": {},
   "source": [
    "First we see that there are 4 different regions. The difference in number of counts in northeast, northwest and southwest is negligible with only a small difference in southeast which has a higher count of 39.\n",
    "\n",
    "We have the southwest region with the lowest insurance cost average of 12346.94 and southeast region with the highest insurance cost average of 14735.41.\n",
    "\n",
    "### 3. Is there a correlation between age and insurance cost?\n",
    "Since there are a many factors that can influence the above question, we narrowed down the factors influencing the cost by taking only ages that are non-smokers and that have no children. This will be shown using a scatter plot to see if there is any correlation between age and cost:"
   ]
  },
  {
   "cell_type": "code",
   "execution_count": 119,
   "metadata": {},
   "outputs": [
    {
     "data": {
      "image/png": "[encoded data removed]",
      "text/plain": [
       "<Figure size 800x600 with 1 Axes>"
      ]
     },
     "metadata": {},
     "output_type": "display_data"
    }
   ],
   "source": [
    "medical.age_to_cost()"
   ]
  },
  {
   "cell_type": "markdown",
   "metadata": {},
   "source": [
    "Notice there are many outliers that lie well above the tighter band of dots at the lower portion of the plot, these could be due to other factors and makes it difficult to see any correlation from this analysis only. However, the tighter band of dots at the lower portion of the plot does have a positive correlation indicating that with an increase in age there will be an increase in insurance cost.\n",
    "\n",
    "### 4. Compare the cost of insurance for smokers and non-smokers in each region.\n",
    "For this comparison we will be using a side by side bar graph:"
   ]
  },
  {
   "cell_type": "code",
   "execution_count": 115,
   "metadata": {
    "scrolled": false
   },
   "outputs": [
    {
     "data": {
      "image/png": "[encoded data removed]",
      "text/plain": [
       "<Figure size 800x600 with 1 Axes>"
      ]
     },
     "metadata": {},
     "output_type": "display_data"
    }
   ],
   "source": [
    "medical.region_smokers_bar()"
   ]
  },
  {
   "cell_type": "markdown",
   "metadata": {},
   "source": [
    "As we have previously seen, the average insurance costs of smokers vs non-smokers had a major discrepancy and so we would not expect anything too different when looking at each region as they display similar features."
   ]
  },
  {
   "cell_type": "markdown",
   "metadata": {},
   "source": [
    "### TL:DR\n",
    "The dataset for this project contained information about patients' medical insurance costs in the U.S.\n",
    "The goal for the project was to gain insights into some of the factors behind the insurance costs, such as how the insurance costs for smokers vs non-smokers differ. In doing so, a few python libraries were used such as pandas, csv, numpy and matplotlib. The data was collected and stored in a class with methods that were called upon during analysis. A scatter plot and bar graph were used to visualize some insights."
   ]
  }
 ],
 "metadata": {
  "kernelspec": {
   "display_name": "Python 3 (ipykernel)",
   "language": "python",
   "name": "python3"
  },
  "language_info": {
   "codemirror_mode": {
    "name": "ipython",
    "version": 3
   },
   "file_extension": ".py",
   "mimetype": "text/x-python",
   "name": "python",
   "nbconvert_exporter": "python",
   "pygments_lexer": "ipython3",
   "version": "3.10.9"
  }
 },
 "nbformat": 4,
 "nbformat_minor": 4
}
